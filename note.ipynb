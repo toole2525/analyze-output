{
 "cells": [
  {
   "cell_type": "code",
   "execution_count": 2,
   "metadata": {},
   "outputs": [],
   "source": [
    "import pandas as pd\n",
    "import numpy as np\n",
    "import seaborn as sns\n",
    "from scipy import stats"
   ]
  },
  {
   "cell_type": "code",
   "execution_count": 3,
   "metadata": {},
   "outputs": [],
   "source": [
    "# 1. \"sample_data.csv\"から表データをpandasでロードし、インデックスを\"time\"カラムに設定\n",
    "df = pd.read_csv('sample_data.csv', index_col='time')\n",
    "# \"machine_file.csv\"から表データをpandasでロード\n",
    "machine_df = pd.read_csv('machine_file.csv')\n",
    "# dfデータフレームに\"type\"カラムを追加\n",
    "df = df.reset_index().merge(machine_df[['ID', 'type']], on='ID', how='left').set_index('time')\n",
    "\n",
    "# 2. ロードしたデータから各IDごとの平均、分散、サンプルサイズをまとめたDataFrameを作る\n",
    "result = df.groupby('ID').agg({'value': ['mean', 'var', 'count']})\n",
    "result.columns = ['mean', 'var', 'count']"
   ]
  },
  {
   "cell_type": "code",
   "execution_count": 4,
   "metadata": {},
   "outputs": [
    {
     "data": {
      "text/html": [
       "<div>\n",
       "<style scoped>\n",
       "    .dataframe tbody tr th:only-of-type {\n",
       "        vertical-align: middle;\n",
       "    }\n",
       "\n",
       "    .dataframe tbody tr th {\n",
       "        vertical-align: top;\n",
       "    }\n",
       "\n",
       "    .dataframe thead th {\n",
       "        text-align: right;\n",
       "    }\n",
       "</style>\n",
       "<table border=\"1\" class=\"dataframe\">\n",
       "  <thead>\n",
       "    <tr style=\"text-align: right;\">\n",
       "      <th></th>\n",
       "      <th>ID</th>\n",
       "      <th>TF</th>\n",
       "      <th>value</th>\n",
       "      <th>type</th>\n",
       "    </tr>\n",
       "    <tr>\n",
       "      <th>time</th>\n",
       "      <th></th>\n",
       "      <th></th>\n",
       "      <th></th>\n",
       "      <th></th>\n",
       "    </tr>\n",
       "  </thead>\n",
       "  <tbody>\n",
       "    <tr>\n",
       "      <th>2023-02-27 23:08:15</th>\n",
       "      <td>1BB040</td>\n",
       "      <td>False</td>\n",
       "      <td>0.1816</td>\n",
       "      <td>B</td>\n",
       "    </tr>\n",
       "    <tr>\n",
       "      <th>2023-03-04 13:29:52</th>\n",
       "      <td>1AD020</td>\n",
       "      <td>False</td>\n",
       "      <td>0.1117</td>\n",
       "      <td>C</td>\n",
       "    </tr>\n",
       "    <tr>\n",
       "      <th>2023-03-05 06:51:47</th>\n",
       "      <td>1AD010</td>\n",
       "      <td>True</td>\n",
       "      <td>0.0951</td>\n",
       "      <td>B</td>\n",
       "    </tr>\n",
       "    <tr>\n",
       "      <th>2023-02-28 21:54:54</th>\n",
       "      <td>1BB050</td>\n",
       "      <td>True</td>\n",
       "      <td>0.7507</td>\n",
       "      <td>A</td>\n",
       "    </tr>\n",
       "    <tr>\n",
       "      <th>2023-02-27 09:35:43</th>\n",
       "      <td>3HD100</td>\n",
       "      <td>True</td>\n",
       "      <td>0.6839</td>\n",
       "      <td>B</td>\n",
       "    </tr>\n",
       "  </tbody>\n",
       "</table>\n",
       "</div>"
      ],
      "text/plain": [
       "                         ID     TF   value type\n",
       "time                                           \n",
       "2023-02-27 23:08:15  1BB040  False  0.1816    B\n",
       "2023-03-04 13:29:52  1AD020  False  0.1117    C\n",
       "2023-03-05 06:51:47  1AD010   True  0.0951    B\n",
       "2023-02-28 21:54:54  1BB050   True  0.7507    A\n",
       "2023-02-27 09:35:43  3HD100   True  0.6839    B"
      ]
     },
     "execution_count": 4,
     "metadata": {},
     "output_type": "execute_result"
    }
   ],
   "source": [
    "df.head()"
   ]
  },
  {
   "cell_type": "code",
   "execution_count": 30,
   "metadata": {},
   "outputs": [],
   "source": [
    "\"\"\"\n",
    "レーベン分析の関数\n",
    "帰無仮説は「ID間にvalueの母分散に異ならない」\n",
    "input data: data(DataFrame)\n",
    "    index: time\n",
    "    column: ID\n",
    "output data:\n",
    "\"\"\"\n",
    "def variance_test(data):\n",
    "    # 帰無仮説: 各ID間でvalueの母分散は異ならない\n",
    "    groups = [data['value'][data['ID'] == ID] for ID in data['ID'].unique()]\n",
    "    if len(groups) < 2:\n",
    "        print('Error: Must enter at least two input sample vectors.')\n",
    "        return\n",
    "    result = stats.levene(*groups)\n",
    "    print(f'LeveneResult(statistic={result.statistic}, pvalue={result.pvalue})')"
   ]
  },
  {
   "cell_type": "code",
   "execution_count": null,
   "metadata": {},
   "outputs": [],
   "source": [
    "\"\"\"\n",
    "レーベン分析の関数\n",
    "帰無仮説は「ID間にvalueの母分散に異ならない」\n",
    "input data: data(DataFrame)\n",
    "    index: time\n",
    "    column: ID\n",
    "output data:\n",
    "\"\"\"\n",
    "def variance_bartlett_test(data):\n",
    "    # 帰無仮説: 各ID間でvalueの母分散は異ならない\n",
    "    groups = [data['value'][data['ID'] == ID] for ID in data['ID'].unique()]\n",
    "    if len(groups) < 2:\n",
    "        print('Error: Must enter at least two input sample vectors.')\n",
    "        return\n",
    "    result = stats.bartlett(*groups)\n",
    "    print(f'LeveneResult(statistic={result.statistic}, pvalue={result.pvalue})')"
   ]
  },
  {
   "cell_type": "code",
   "execution_count": 31,
   "metadata": {},
   "outputs": [
    {
     "name": "stdout",
     "output_type": "stream",
     "text": [
      "Error: Must enter at least two input sample vectors.\n"
     ]
    }
   ],
   "source": [
    "variance_test(df[df['type'] == 'D'])"
   ]
  },
  {
   "cell_type": "code",
   "execution_count": 32,
   "metadata": {},
   "outputs": [
    {
     "name": "stdout",
     "output_type": "stream",
     "text": [
      "LeveneResult(statistic=1.3941460847169003, pvalue=0.2545138083829031)\n",
      "LeveneResult(statistic=1.1260607917486987, pvalue=0.30950801834299213)\n",
      "LeveneResult(statistic=0.4288114635893607, pvalue=0.5218762128473581)\n",
      "Error: Must enter at least two input sample vectors.\n"
     ]
    }
   ],
   "source": [
    "types = df['type'].unique()\n",
    "for t in types:\n",
    "    #print(df[df['type'] == t])\n",
    "    variance_test(df[df['type'] == t])"
   ]
  },
  {
   "cell_type": "code",
   "execution_count": 12,
   "metadata": {},
   "outputs": [
    {
     "data": {
      "text/plain": [
       "time\n",
       "2023-02-27 23:08:15    0.1816\n",
       "2023-03-05 20:09:10    0.5422\n",
       "2023-03-01 15:52:03    0.7726\n",
       "2023-02-27 23:17:18    0.7492\n",
       "2023-03-04 12:17:03    0.4131\n",
       "2023-03-02 17:58:02    0.3703\n",
       "2023-02-27 18:42:48    0.0268\n",
       "2023-03-04 03:36:59    0.4109\n",
       "2023-03-02 10:54:10    0.2427\n",
       "2023-02-28 17:28:04    0.6154\n",
       "2023-03-01 20:49:16    0.8293\n",
       "2023-03-02 15:03:51    0.2074\n",
       "2023-03-02 11:23:14    0.4104\n",
       "2023-03-03 17:14:24    0.0766\n",
       "2023-03-05 19:18:51    0.0468\n",
       "2023-03-03 18:27:43    0.8854\n",
       "2023-02-28 12:55:54    0.8723\n",
       "Name: value, dtype: float64"
      ]
     },
     "execution_count": 12,
     "metadata": {},
     "output_type": "execute_result"
    }
   ],
   "source": [
    "df['value'][df['ID'] == '1BB040']"
   ]
  },
  {
   "cell_type": "code",
   "execution_count": null,
   "metadata": {},
   "outputs": [],
   "source": []
  }
 ],
 "metadata": {
  "kernelspec": {
   "display_name": "Python 3",
   "language": "python",
   "name": "python3"
  },
  "language_info": {
   "codemirror_mode": {
    "name": "ipython",
    "version": 3
   },
   "file_extension": ".py",
   "mimetype": "text/x-python",
   "name": "python",
   "nbconvert_exporter": "python",
   "pygments_lexer": "ipython3",
   "version": "3.9.13"
  },
  "orig_nbformat": 4
 },
 "nbformat": 4,
 "nbformat_minor": 2
}
